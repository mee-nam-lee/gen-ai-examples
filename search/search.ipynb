{
 "cells": [
  {
   "cell_type": "code",
   "execution_count": null,
   "metadata": {},
   "outputs": [],
   "source": [
    "!pip3 install google-cloud-discoveryengine python-dotenv\n"
   ]
  },
  {
   "cell_type": "code",
   "execution_count": null,
   "metadata": {},
   "outputs": [],
   "source": [
    "import os\n",
    "from dotenv import load_dotenv\n",
    "load_dotenv('./.env')"
   ]
  },
  {
   "cell_type": "code",
   "execution_count": null,
   "metadata": {},
   "outputs": [],
   "source": [
    "PROJECT_ID = os.environ.get('PROJECT_ID')\n",
    "LOCATION=os.environ.get('LOCATION')\n",
    "DATA_STORE_ID=os.environ.get('DATA_STORE_ID')"
   ]
  },
  {
   "cell_type": "code",
   "execution_count": null,
   "metadata": {},
   "outputs": [],
   "source": [
    "print(DATA_STORE_ID)\n",
    "print(PROJECT_ID)\n",
    "print(LOCATION)"
   ]
  },
  {
   "cell_type": "code",
   "execution_count": null,
   "metadata": {},
   "outputs": [],
   "source": [
    "from typing import List\n",
    "\n",
    "from google.api_core.client_options import ClientOptions\n",
    "#from google.cloud import discoveryengine_v1beta as discoveryengine\n",
    "from google.cloud import discoveryengine_v1 as discoveryengine\n",
    "\n",
    "#https://cloud.google.com/generative-ai-app-builder/docs/reference/rpc/google.cloud.discoveryengine.v1\n",
    "def search(\n",
    "    search_query: str,\n",
    "    project_id = PROJECT_ID,\n",
    "    location = LOCATION,\n",
    "    #engine_id = APP_ID,\n",
    "    data_store_id = DATA_STORE_ID\n",
    "\n",
    ") -> List[discoveryengine.SearchResponse]:\n",
    "    client_options = (\n",
    "        ClientOptions(api_endpoint=f\"{location}-discoveryengine.googleapis.com\")\n",
    "    )\n",
    "\n",
    "    client = discoveryengine.SearchServiceClient(client_options=client_options)\n",
    "\n",
    "    serving_config = client.serving_config_path(\n",
    "        project=project_id,\n",
    "        location=location,\n",
    "        data_store=data_store_id,\n",
    "        #engine_id = engine_id,\n",
    "        serving_config=\"default_config\",\n",
    "    )\n",
    "\n",
    "    content_search_spec = discoveryengine.SearchRequest.ContentSearchSpec(\n",
    "\n",
    "        snippet_spec=discoveryengine.SearchRequest.ContentSearchSpec.SnippetSpec(\n",
    "            return_snippet=True,\n",
    "            max_snippet_count = 5\n",
    "        ),\n",
    "\n",
    "        summary_spec=discoveryengine.SearchRequest.ContentSearchSpec.SummarySpec(\n",
    "            summary_result_count=5,\n",
    "            include_citations=True,\n",
    "            ignore_adversarial_query=True,\n",
    "            ignore_non_summary_seeking_query=True,\n",
    "        ),\n",
    "\n",
    "        # V1 REST API에는 명시되어있지만 latest Python library에는 빠져있음\n",
    "        # Latest Python : https://cloud.google.com/python/docs/reference/discoveryengine/latest/google.cloud.discoveryengine_v1.types.SearchRequest.ContentSearchSpec\n",
    "        # REST API : https://cloud.google.com/generative-ai-app-builder/docs/reference/rest/v1/ContentSearchSpec#ExtractiveContentSpec\n",
    "        \n",
    "        #extractive_content_spec = discoveryengine.SearchRequest.ContentSearchSpec.ExtractiveContentSpec(\n",
    "        #    max_extractive_answer_count=1,\n",
    "        #    max_extractive_segment_count=1,\n",
    "        #    return_extractive_segment_score=True\n",
    "        #)\n",
    "        \n",
    "    )\n",
    "\n",
    "    request = discoveryengine.SearchRequest(\n",
    "        serving_config=serving_config,\n",
    "        query=search_query,\n",
    "        page_size=10,\n",
    "        #content_search_spec=content_search_spec,\n",
    "        query_expansion_spec=discoveryengine.SearchRequest.QueryExpansionSpec(\n",
    "            condition=discoveryengine.SearchRequest.QueryExpansionSpec.Condition.AUTO,\n",
    "        ),\n",
    "        spell_correction_spec=discoveryengine.SearchRequest.SpellCorrectionSpec(\n",
    "            mode=discoveryengine.SearchRequest.SpellCorrectionSpec.Mode.AUTO\n",
    "        ),\n",
    "    )\n",
    "\n",
    "    response = client.search(request)\n",
    "    print(response)\n",
    "\n",
    "    return response"
   ]
  },
  {
   "cell_type": "code",
   "execution_count": null,
   "metadata": {},
   "outputs": [],
   "source": [
    "print(search('라이센스에 대해 알려줘'))"
   ]
  },
  {
   "cell_type": "code",
   "execution_count": null,
   "metadata": {},
   "outputs": [],
   "source": [
    "import json\n",
    "req_json = {\n",
    "    \"query\": \"라이센스에 대해 알려줘\",\n",
    "    \"pageSize\": 10,\n",
    "    \"queryExpansionSpec\": {\n",
    "        \"condition\": \"AUTO\"\n",
    "    },\n",
    "    \"spellCorrectionSpec\": {\n",
    "        \"mode\": \"AUTO\"\n",
    "    },\n",
    "    \"contentSearchSpec\": {\n",
    "        \"summarySpec\": {\n",
    "            \"summaryResultCount\": 5,\n",
    "            \"ignoreAdversarialQuery\": True,\n",
    "            \"includeCitations\": True\n",
    "        },\n",
    "        \"snippetSpec\": {\n",
    "            \"maxSnippetCount\": 1,\n",
    "            \"returnSnippet\": True\n",
    "        },\n",
    "        \"extractiveContentSpec\": {\n",
    "            \"maxExtractiveAnswerCount\": 1,\n",
    "            \"maxExtractiveSegmentCount\": 1,\n",
    "            \"returnExtractiveSegmentScore\": True\n",
    "        }\n",
    "    }\n",
    "}\n",
    "json_data = json.dumps(req_json)"
   ]
  },
  {
   "cell_type": "code",
   "execution_count": null,
   "metadata": {},
   "outputs": [],
   "source": [
    "!curl -X POST -H \"Authorization: Bearer $(gcloud auth print-access-token)\" \\\n",
    "-H \"Content-Type: application/json\" \\\n",
    "\"https://discoveryengine.googleapis.com/v1alpha/projects/{PROJECT_ID}/locations/global/collections/default_collection/dataStores/{DATA_STORE_ID}/servingConfigs/default_search:search\" \\\n",
    "-d '{json_data}'"
   ]
  }
 ],
 "metadata": {
  "kernelspec": {
   "display_name": "Python 3",
   "language": "python",
   "name": "python3"
  },
  "language_info": {
   "codemirror_mode": {
    "name": "ipython",
    "version": 3
   },
   "file_extension": ".py",
   "mimetype": "text/x-python",
   "name": "python",
   "nbconvert_exporter": "python",
   "pygments_lexer": "ipython3",
   "version": "3.9.6"
  }
 },
 "nbformat": 4,
 "nbformat_minor": 2
}
