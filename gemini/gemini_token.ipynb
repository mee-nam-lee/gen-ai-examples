{
  "cells": [
    {
      "cell_type": "markdown",
      "metadata": {
        "id": "9003470a8d3b"
      },
      "source": [
        "# Gemini Token\n"
      ]
    },
    {
      "cell_type": "code",
      "execution_count": null,
      "metadata": {
        "id": "tFy3H3aPgx12"
      },
      "outputs": [],
      "source": [
        "%pip install --upgrade --user google-cloud-aiplatform\n",
        "%pip install sentencepiece"
      ]
    },
    {
      "cell_type": "code",
      "execution_count": 18,
      "metadata": {},
      "outputs": [
        {
          "data": {
            "text/plain": [
              "True"
            ]
          },
          "execution_count": 18,
          "metadata": {},
          "output_type": "execute_result"
        }
      ],
      "source": [
        "from dotenv import load_dotenv\n",
        "import os\n",
        "\n",
        "load_dotenv()"
      ]
    },
    {
      "cell_type": "code",
      "execution_count": 19,
      "metadata": {
        "id": "Nqwi-5ufWp_B"
      },
      "outputs": [],
      "source": [
        "PROJECT_ID = os.environ['PROJECT_ID']\n",
        "LOCATION = os.environ['LOCATION']\n",
        "BUCKET = os.environ['BUCKET']"
      ]
    },
    {
      "cell_type": "code",
      "execution_count": 20,
      "metadata": {},
      "outputs": [],
      "source": [
        "import vertexai\n",
        "\n",
        "vertexai.init(project=PROJECT_ID, location=LOCATION)"
      ]
    },
    {
      "cell_type": "code",
      "execution_count": 74,
      "metadata": {},
      "outputs": [],
      "source": [
        "from vertexai.generative_models import (\n",
        "    GenerativeModel,\n",
        "    Part,\n",
        "    Image,  \n",
        ")"
      ]
    },
    {
      "cell_type": "code",
      "execution_count": 75,
      "metadata": {},
      "outputs": [],
      "source": [
        "import vertexai.preview\n",
        "from vertexai.preview.tokenization import get_tokenizer_for_model\n",
        "\n",
        "def print_token_tokenizer(model_name,prompt=None):\n",
        "\n",
        "    # init local tokenzier\n",
        "    tokenizer = get_tokenizer_for_model(model_name)\n",
        "\n",
        "    # Count Toke\n",
        "    response = tokenizer.count_tokens(prompt)\n",
        "    print(f\"Tokens count: {response.total_tokens}\")\n",
        "\n",
        "    # Compute Tokens\n",
        "    response = tokenizer.compute_tokens(prompt)\n",
        "    print(f\"Tokens list: {response.tokens_info}\")"
      ]
    },
    {
      "cell_type": "code",
      "execution_count": 23,
      "metadata": {},
      "outputs": [],
      "source": [
        "def print_token(prompt, image_prompt=None, model_name=\"gemini-1.5-flash-002\", ):\n",
        "    model = GenerativeModel(model_name)\n",
        "    if image_prompt is not None:\n",
        "        org_image = Part.from_uri(f\"{BUCKET}/{image_prompt}\",mime_type=\"image/png\")\n",
        "        response = model.count_tokens([prompt,org_image])\n",
        "    else:\n",
        "        response = model.count_tokens(prompt)\n",
        "    # Prompt tokens count\n",
        "    tokens = response.total_tokens\n",
        "    chars = response.total_billable_characters\n",
        "    print(f\"Prompt Token Count: {tokens}\")\n",
        "    print(f\"Prompt Character Count: {chars}\")\n",
        "\n",
        "    # Send text to Gemini\n",
        "    #response = model.generate_content(prompt)\n",
        "\n",
        "    # Response tokens count\n",
        "    #usage_metadata = response.usage_metadata\n",
        "    #print(f\"Prompt Token Count: {usage_metadata.prompt_token_count}\")\n",
        "    #print(f\"Candidates Token Count: {usage_metadata.candidates_token_count}\")\n",
        "    #print(f\"Total Token Count: {usage_metadata.total_token_count}\")\n",
        "    return tokens, chars\n"
      ]
    },
    {
      "cell_type": "code",
      "execution_count": 77,
      "metadata": {},
      "outputs": [],
      "source": [
        "def print_token_image(image_prompt, model_name=\"gemini-1.5-flash-002\"):\n",
        "    model = GenerativeModel(model_name)\n",
        "    \n",
        "    #org_image = Part.from_uri(f\"{BUCKET}/{image_prompt}\",mime_type=\"image/png\")\n",
        "\n",
        "    input_image = Part.from_image(Image.load_from_file(image_prompt))\n",
        "    response = model.count_tokens(input_image)\n",
        "\n",
        "    print(response)\n",
        "    # Prompt tokens count\n",
        "    tokens = response.total_tokens\n",
        "    chars = response.total_billable_characters\n",
        "    print(f\"Prompt Token Count: {tokens}\")\n",
        "    print(f\"Prompt Character Count: {chars}\")\n",
        "\n",
        "    return tokens, chars   "
      ]
    },
    {
      "cell_type": "code",
      "execution_count": 57,
      "metadata": {},
      "outputs": [],
      "source": [
        "import random\n",
        "from PIL import Image as PIL_Image\n",
        "\n",
        "def create_random_image(width, height):\n",
        "    output_path = f\"./images/random/output_{width}_{height}.png\"\n",
        "    \"\"\"\n",
        "    Creates an image with random RGB pixel values and saves it as a PNG file.\n",
        "\n",
        "    Args:\n",
        "        width (int): The width of the image in pixels.\n",
        "        height (int): The height of the image in pixels.\n",
        "        output_path (str): The path to save the image.\n",
        "    \"\"\"\n",
        "\n",
        "    # Create a new image with a white background\n",
        "    img = PIL_Image.new('RGB', (width, height), color='white')\n",
        "\n",
        "    # Generate random pixel values\n",
        "    pixels = [(random.randint(0, 255), random.randint(0, 255), random.randint(0, 255))\n",
        "              for _ in range(width * height)]\n",
        "\n",
        "    # Put the random pixels into the image\n",
        "    img.putdata(pixels)\n",
        "\n",
        "    # Save the image\n",
        "    img.save(output_path)\n",
        "    return output_path"
      ]
    },
    {
      "cell_type": "code",
      "execution_count": null,
      "metadata": {},
      "outputs": [],
      "source": [
        "import pandas as pd\n",
        "\n",
        "df = pd.DataFrame(columns=[\"width\", \"height\", \"w x h pixels\", \"tokens\"])\n",
        "\n",
        "image_sizes = [[200,200],[384,384], [768,768], [1024,1024], [768,1408], [1408, 768], [896, 1280], [1280, 896], [1536, 1566], [1152,2016], [2016, 1134], [1344, 1792], [1792, 1344], [2048, 2048], [2816,1536], [4096,4096]]\n",
        "#image_sizes = [ [4096,4096]]\n",
        "\n",
        "for width, height in image_sizes:\n",
        "    print(f\"Image width: {width}\")\n",
        "    pixels= width * height\n",
        "    tokens, chars = print_token_image(create_random_image(width, height))\n",
        "    df = df._append({'width': width, 'height': height,'w x h pixels': pixels, 'tokens':tokens }, ignore_index=True)"
      ]
    },
    {
      "cell_type": "code",
      "execution_count": 71,
      "metadata": {},
      "outputs": [
        {
          "data": {
            "text/html": [
              "<div>\n",
              "<style scoped>\n",
              "    .dataframe tbody tr th:only-of-type {\n",
              "        vertical-align: middle;\n",
              "    }\n",
              "\n",
              "    .dataframe tbody tr th {\n",
              "        vertical-align: top;\n",
              "    }\n",
              "\n",
              "    .dataframe thead th {\n",
              "        text-align: right;\n",
              "    }\n",
              "</style>\n",
              "<table border=\"1\" class=\"dataframe\">\n",
              "  <thead>\n",
              "    <tr style=\"text-align: right;\">\n",
              "      <th></th>\n",
              "      <th>width</th>\n",
              "      <th>height</th>\n",
              "      <th>w x h pixels</th>\n",
              "      <th>tokens</th>\n",
              "    </tr>\n",
              "  </thead>\n",
              "  <tbody>\n",
              "    <tr>\n",
              "      <th>0</th>\n",
              "      <td>200</td>\n",
              "      <td>200</td>\n",
              "      <td>40000</td>\n",
              "      <td>258</td>\n",
              "    </tr>\n",
              "    <tr>\n",
              "      <th>1</th>\n",
              "      <td>384</td>\n",
              "      <td>384</td>\n",
              "      <td>147456</td>\n",
              "      <td>258</td>\n",
              "    </tr>\n",
              "    <tr>\n",
              "      <th>2</th>\n",
              "      <td>768</td>\n",
              "      <td>768</td>\n",
              "      <td>589824</td>\n",
              "      <td>258</td>\n",
              "    </tr>\n",
              "    <tr>\n",
              "      <th>3</th>\n",
              "      <td>1024</td>\n",
              "      <td>1024</td>\n",
              "      <td>1048576</td>\n",
              "      <td>258</td>\n",
              "    </tr>\n",
              "    <tr>\n",
              "      <th>4</th>\n",
              "      <td>768</td>\n",
              "      <td>1408</td>\n",
              "      <td>1081344</td>\n",
              "      <td>258</td>\n",
              "    </tr>\n",
              "    <tr>\n",
              "      <th>5</th>\n",
              "      <td>1408</td>\n",
              "      <td>768</td>\n",
              "      <td>1081344</td>\n",
              "      <td>258</td>\n",
              "    </tr>\n",
              "    <tr>\n",
              "      <th>6</th>\n",
              "      <td>896</td>\n",
              "      <td>1280</td>\n",
              "      <td>1146880</td>\n",
              "      <td>258</td>\n",
              "    </tr>\n",
              "    <tr>\n",
              "      <th>7</th>\n",
              "      <td>1280</td>\n",
              "      <td>896</td>\n",
              "      <td>1146880</td>\n",
              "      <td>258</td>\n",
              "    </tr>\n",
              "    <tr>\n",
              "      <th>10</th>\n",
              "      <td>2016</td>\n",
              "      <td>1134</td>\n",
              "      <td>2286144</td>\n",
              "      <td>258</td>\n",
              "    </tr>\n",
              "    <tr>\n",
              "      <th>9</th>\n",
              "      <td>1152</td>\n",
              "      <td>2016</td>\n",
              "      <td>2322432</td>\n",
              "      <td>258</td>\n",
              "    </tr>\n",
              "    <tr>\n",
              "      <th>8</th>\n",
              "      <td>1536</td>\n",
              "      <td>1566</td>\n",
              "      <td>2405376</td>\n",
              "      <td>258</td>\n",
              "    </tr>\n",
              "    <tr>\n",
              "      <th>11</th>\n",
              "      <td>1344</td>\n",
              "      <td>1792</td>\n",
              "      <td>2408448</td>\n",
              "      <td>258</td>\n",
              "    </tr>\n",
              "    <tr>\n",
              "      <th>12</th>\n",
              "      <td>1792</td>\n",
              "      <td>1344</td>\n",
              "      <td>2408448</td>\n",
              "      <td>258</td>\n",
              "    </tr>\n",
              "    <tr>\n",
              "      <th>13</th>\n",
              "      <td>2048</td>\n",
              "      <td>2048</td>\n",
              "      <td>4194304</td>\n",
              "      <td>258</td>\n",
              "    </tr>\n",
              "    <tr>\n",
              "      <th>14</th>\n",
              "      <td>2816</td>\n",
              "      <td>1536</td>\n",
              "      <td>4325376</td>\n",
              "      <td>258</td>\n",
              "    </tr>\n",
              "    <tr>\n",
              "      <th>15</th>\n",
              "      <td>4096</td>\n",
              "      <td>4096</td>\n",
              "      <td>16777216</td>\n",
              "      <td>258</td>\n",
              "    </tr>\n",
              "  </tbody>\n",
              "</table>\n",
              "</div>"
            ],
            "text/plain": [
              "   width height w x h pixels tokens\n",
              "0    200    200        40000    258\n",
              "1    384    384       147456    258\n",
              "2    768    768       589824    258\n",
              "3   1024   1024      1048576    258\n",
              "4    768   1408      1081344    258\n",
              "5   1408    768      1081344    258\n",
              "6    896   1280      1146880    258\n",
              "7   1280    896      1146880    258\n",
              "10  2016   1134      2286144    258\n",
              "9   1152   2016      2322432    258\n",
              "8   1536   1566      2405376    258\n",
              "11  1344   1792      2408448    258\n",
              "12  1792   1344      2408448    258\n",
              "13  2048   2048      4194304    258\n",
              "14  2816   1536      4325376    258\n",
              "15  4096   4096     16777216    258"
            ]
          },
          "metadata": {},
          "output_type": "display_data"
        }
      ],
      "source": [
        "df_sorted = df.sort_values(by='w x h pixels', ascending=True)\n",
        "display(df_sorted)"
      ]
    },
    {
      "cell_type": "code",
      "execution_count": 33,
      "metadata": {},
      "outputs": [],
      "source": [
        "def print_price(tokens, chars):\n",
        "    print(f\"Flash 1.5      price {(chars/1000)*0.00001875:0.10f}\")\n",
        "    print(f\"Flash 2.0      price {(tokens/1000000)*0.15:0.10f}\")\n",
        "    print(f\"Flash 2.0 Lite price {(tokens/1000000)*0.075:0.10f}\")"
      ]
    },
    {
      "cell_type": "code",
      "execution_count": 17,
      "metadata": {},
      "outputs": [],
      "source": [
        "prompt =\"\"\"\n",
        "다음 뉴스를 요약해줘:\n",
        "이번 주에는 기온이 오름세를 보이며 한파의 기세가 점차 누그러지겠습니다.\n",
        "오늘 아침도 경기 내륙과 강원 내륙 산지, 충청 내륙, 전북 동부, 경북 내륙 지역은 한파특보가 내려진 가운데 춥긴 추웠는데요.\n",
        "오늘 아침 기온은 서울이 영하 7.5도 등 전국 대부분 지역이 어제보다는 1도에서 7도 정도 높았고, 한낮 기온도 전국이 영상으로 올라서 어제보다 1도에서 3도 정도 높겠습니다.\n",
        "내일 아침에는 서울이 영하 5도로 오늘보다 3도 정도 높겠고, 한낮에는 영상 6도까지 올라가 평년 수준을 웃돌겠습니다.\n",
        "지금도 대설주의보가 내려진 전북 고창과 부안, 군산에는 눈이 오는 곳이 있습니다.\n",
        "오늘은 오전까지 충남 서해안과 전북 서해안에 1에서 5센티미터, 경기 남부와 충청 내륙, 전북 내륙과 광주, 전남 서부 지역에 1센티미터 안팎의 눈이 올 것으로 보입니다.\n",
        "반면 눈이 내리지 않은 동해안과 경남 동부 지역은 건조특보가 계속되겠습니다.\n",
        "특히 오늘은 해안 지방에 바람이 순간 풍속 초속 15미터 이상으로 강하게 부는 곳이 있어 불씨 관리에 신경 쓰셔야겠습니다.\n",
        "낮 기온은 서울과 춘천이 2도, 광주가 4도, 대전, 대구 5도로 어제보다 조금 높겠습니다.\n",
        "바다의 물결은 동해 먼바다에서 최고 3.5미터로 높게 일겠습니다.\n",
        "정월대보름인 모레 수요일에는 전국에 눈이나 비가 내리겠습니다.\n",
        "날씨 전해드렸습니다.\n",
        "\"\"\""
      ]
    },
    {
      "cell_type": "code",
      "execution_count": 37,
      "metadata": {},
      "outputs": [
        {
          "name": "stdout",
          "output_type": "stream",
          "text": [
            "Prompt Token Count: 495\n",
            "Prompt Character Count: 518\n",
            "Flash 1.5      price 0.0000097125\n",
            "Flash 2.0      price 0.0000742500\n",
            "Flash 2.0 Lite price 0.0000371250\n"
          ]
        }
      ],
      "source": [
        "tokens, chars =print_token(prompt)\n",
        "print_price(tokens, chars)"
      ]
    },
    {
      "cell_type": "code",
      "execution_count": 27,
      "metadata": {},
      "outputs": [],
      "source": [
        "prompt2 =\"\"\"\n",
        "Summarize this artitle:\n",
        "On 2 February 2025, Father Stephan Lipke, SJ, was ordained as the Auxiliary Bishop of the Diocese of the Transfiguration in Novosibirsk and titular Bishop of Arena. Fr Lipke is a member of the Province of Greater Poland and Mazovia which comprises parts of Poland, Denmark, Russia, Belarus, and Kyrgyzstan.\n",
        "The episcopal consecration, which took place at the Cathedral of the Transfiguration of the Lord in Novosibirsk, was led by Bishop Joseph Werth, SJ, the ordinary of the Diocese of Transfiguration, and accompanied by other Bishops. Jesuits, government representatives, and a capacity crowd of faithful attended the ceremony.\n",
        "Born on 31 December 1975 in Essen, Germany, Fr Lipke, pursued studies in philosophy and theology at the University of Bonn. He was ordained a deacon in 2001 and a priest in 2002. He joined the Society of Jesus in 2006 as a priest, and pronounced his First Vows in 2008. His mission to Russia began in 2011, where he held teaching and pastoral roles in Tomsk before earning a doctorate in Russian literature from Tomsk State University in 2017. He later underwent Tertianship in Manila, Philippines. In Moscow, he served as the director of the St. Thomas Institute, editor of the magazine Simvol, and Consultor to the Superior of the Independent Russian Region.\n",
        "\"\"\""
      ]
    },
    {
      "cell_type": "code",
      "execution_count": 35,
      "metadata": {},
      "outputs": [
        {
          "name": "stdout",
          "output_type": "stream",
          "text": [
            "Prompt Token Count: 308\n",
            "Prompt Character Count: 1101\n",
            "Flash 1.5      price 0.0000206437\n",
            "Flash 2.0      price 0.0000462000\n",
            "Flash 2.0 Lite price 0.0000231000\n"
          ]
        }
      ],
      "source": [
        "tokens, chars =print_token(prompt2)\n",
        "print_price(tokens, chars)"
      ]
    },
    {
      "cell_type": "code",
      "execution_count": 47,
      "metadata": {},
      "outputs": [
        {
          "name": "stdout",
          "output_type": "stream",
          "text": [
            "Prompt Token Count: 260\n",
            "Prompt Character Count: 13\n",
            "Flash 1.5      price 0.0000002437\n",
            "Flash 2.0      price 0.0000390000\n",
            "Flash 2.0 Lite price 0.0000195000\n"
          ]
        }
      ],
      "source": [
        "prompt3=\"describe image\"\n",
        "tokens, chars =print_token(prompt3,\"20250114134422 edit cat.png\")\n",
        "print_price(tokens, chars)"
      ]
    },
    {
      "cell_type": "code",
      "execution_count": 53,
      "metadata": {},
      "outputs": [
        {
          "name": "stdout",
          "output_type": "stream",
          "text": [
            "Prompt Token Count: 2\n",
            "Prompt Character Count: 13\n",
            "Flash 1.5      price 0.0000002437\n",
            "Flash 2.0      price 0.0000003000\n",
            "Flash 2.0 Lite price 0.0000001500\n"
          ]
        }
      ],
      "source": [
        "prompt3=\"describe image\"\n",
        "tokens, chars =print_token(prompt3)\n",
        "print_price(tokens, chars)"
      ]
    },
    {
      "cell_type": "code",
      "execution_count": 68,
      "metadata": {},
      "outputs": [
        {
          "name": "stdout",
          "output_type": "stream",
          "text": [
            "Tokens count: 50\n",
            "Tokens list: [TokensInfo(token_ids=[886, 573, 3760, 576, 476, 130898, 3413, 235269, 71557, 573, 121048, 171729, 578, 573, 179162, 2561, 576, 9988, 235269, 11012, 476, 3486, 4602, 8602, 41808, 235265, 235248, 108, 141, 68194, 729, 476, 17978, 578, 78674, 2047, 235269, 675, 476, 3760, 2247, 576, 15800, 578, 476, 3403, 225950, 675, 5793, 235265], tokens=[b'In', b' the', b' heart', b' of', b' a', b' bustling', b' city', b',', b' amidst', b' the', b' towering', b' skyscrapers', b' and', b' the', b' ceaseless', b' hum', b' of', b' traffic', b',', b' lived', b' a', b' young', b' girl', b' named', b' Lily', b'.', b' ', b'\\n', b'    ', b'Lily', b' was', b' a', b' curious', b' and', b' imaginative', b' child', b',', b' with', b' a', b' heart', b' full', b' of', b' dreams', b' and', b' a', b' mind', b' brimming', b' with', b' ideas', b'.'], role='user')]\n"
          ]
        }
      ],
      "source": [
        "prompt_en = \"\"\"In the heart of a bustling city, amidst the towering skyscrapers and the ceaseless hum of traffic, lived a young girl named Lily. \n",
        "    Lily was a curious and imaginative child, with a heart full of dreams and a mind brimming with ideas.\"\"\"\n",
        "print_token(prompt_en)"
      ]
    },
    {
      "cell_type": "code",
      "execution_count": 70,
      "metadata": {},
      "outputs": [
        {
          "name": "stdout",
          "output_type": "stream",
          "text": [
            "Tokens count: 89\n",
            "Tokens list: [TokensInfo(token_ids=[238628, 241533, 236511, 204778, 236137, 47250, 239308, 237092, 235269, 54087, 247854, 235248, 248607, 236648, 46749, 242354, 235248, 242221, 241103, 237233, 235248, 245202, 238700, 238739, 235832, 235248, 242406, 237154, 238154, 137120, 75985, 238693, 44997, 238036, 125507, 22803, 235248, 241949, 236432, 139978, 53355, 239263, 192996, 236361, 130412, 239985, 21743, 235265, 235248, 241949, 137120, 83942, 236386, 239308, 235832, 99805, 236464, 36203, 237047, 238365, 235832, 209727, 237092, 236511, 72797, 239867, 101715, 235269, 41645, 238036, 236648, 235248, 242772, 26291, 23248, 242127, 238267, 236464, 235269, 35467, 237502, 236648, 72797, 175659, 236375, 23248, 242127, 76571, 235265], tokens=[b'\\xeb\\xb2\\x88', b'\\xec\\x9e\\xa1', b'\\xed\\x95\\x9c', b' \\xeb\\x8f\\x84\\xec\\x8b\\x9c', b'\\xec\\x9d\\x98', b' \\xec\\xa4\\x91', b'\\xec\\x8b\\xac', b'\\xeb\\xb6\\x80', b',', b' \\xec\\x9a\\xb0', b'\\xeb\\x9a\\x9d', b' ', b'\\xec\\x86\\x9f', b'\\xec\\x9d\\x80', b' \\xea\\xb3\\xa0', b'\\xec\\xb8\\xb5', b' ', b'\\xeb\\xb9\\x8c', b'\\xeb\\x94\\xa9', b'\\xea\\xb3\\xbc', b' ', b'\\xeb\\x81\\x8a', b'\\xec\\x9e\\x84', b'\\xec\\x97\\x86', b'\\xec\\x9d\\xb4', b' ', b'\\xec\\x9b\\x85', b'\\xec\\x84\\xb1', b'\\xea\\xb1\\xb0', b'\\xeb\\xa6\\xac\\xeb\\x8a\\x94', b' \\xea\\xb5\\x90', b'\\xed\\x86\\xb5', b' \\xec\\x86\\x8c', b'\\xec\\x9d\\x8c', b' \\xec\\x86\\x8d', b'\\xec\\x97\\x90\\xec\\x84\\x9c', b' ', b'\\xeb\\xa6\\xb4', b'\\xeb\\xa6\\xac', b'\\xeb\\x9d\\xbc\\xeb\\x8a\\x94', b' \\xec\\x96\\xb4', b'\\xeb\\xa6\\xb0', b' \\xec\\x86\\x8c\\xeb\\x85\\x80', b'\\xea\\xb0\\x80', b' \\xec\\x82\\xb4', b'\\xec\\x95\\x98', b'\\xec\\x8a\\xb5\\xeb\\x8b\\x88\\xeb\\x8b\\xa4', b'.', b' ', b'\\xeb\\xa6\\xb4', b'\\xeb\\xa6\\xac\\xeb\\x8a\\x94', b' \\xed\\x98\\xb8', b'\\xea\\xb8\\xb0', b'\\xec\\x8b\\xac', b'\\xec\\x9d\\xb4', b' \\xeb\\xa7\\x8e', b'\\xea\\xb3\\xa0', b' \\xec\\x83\\x81', b'\\xec\\x83\\x81', b'\\xeb\\xa0\\xa5', b'\\xec\\x9d\\xb4', b' \\xed\\x92\\x8d', b'\\xeb\\xb6\\x80', b'\\xed\\x95\\x9c', b' \\xec\\x95\\x84\\xec\\x9d\\xb4', b'\\xec\\x98\\x80', b'\\xec\\x9c\\xbc\\xeb\\xa9\\xb0', b',', b' \\xeb\\xa7\\x88', b'\\xec\\x9d\\x8c', b'\\xec\\x9d\\x80', b' ', b'\\xea\\xbf\\x88', b'\\xec\\x9c\\xbc\\xeb\\xa1\\x9c', b' \\xea\\xb0\\x80', b'\\xeb\\x93\\x9d', b'\\xed\\x96\\x88', b'\\xea\\xb3\\xa0', b',', b' \\xec\\xa0\\x95', b'\\xec\\x8b\\xa0', b'\\xec\\x9d\\x80', b' \\xec\\x95\\x84\\xec\\x9d\\xb4', b'\\xeb\\x94\\x94\\xec\\x96\\xb4', b'\\xeb\\xa1\\x9c', b' \\xea\\xb0\\x80', b'\\xeb\\x93\\x9d', b'\\xed\\x96\\x88\\xec\\x8a\\xb5\\xeb\\x8b\\x88\\xeb\\x8b\\xa4', b'.'], role='user')]\n"
          ]
        }
      ],
      "source": [
        "prompt_ko =\"번잡한 도시의 중심부, 우뚝 솟은 고층 빌딩과 끊임없이 웅성거리는 교통 소음 속에서 릴리라는 어린 소녀가 살았습니다. 릴리는 호기심이 많고 상상력이 풍부한 아이였으며, 마음은 꿈으로 가득했고, 정신은 아이디어로 가득했습니다.\"\n",
        "\n",
        "print_token(prompt_ko)"
      ]
    },
    {
      "cell_type": "code",
      "execution_count": 37,
      "metadata": {},
      "outputs": [],
      "source": [
        "import random\n",
        "from PIL import Image\n",
        "\n",
        "def create_random_image(width, height):\n",
        "    output_path = f\"./images/random/output_{width}_{height}.png\"\n",
        "    \"\"\"\n",
        "    Creates an image with random RGB pixel values and saves it as a PNG file.\n",
        "\n",
        "    Args:\n",
        "        width (int): The width of the image in pixels.\n",
        "        height (int): The height of the image in pixels.\n",
        "        output_path (str): The path to save the image.\n",
        "    \"\"\"\n",
        "\n",
        "    # Create a new image with a white background\n",
        "    img = Image.new('RGB', (width, height), color='white')\n",
        "\n",
        "    # Generate random pixel values\n",
        "    pixels = [(random.randint(0, 255), random.randint(0, 255), random.randint(0, 255))\n",
        "              for _ in range(width * height)]\n",
        "\n",
        "    # Put the random pixels into the image\n",
        "    img.putdata(pixels)\n",
        "\n",
        "    # Save the image\n",
        "    img.save(output_path)\n",
        "    return output_path\n"
      ]
    }
  ],
  "metadata": {
    "colab": {
      "name": "imagen3_editing.ipynb",
      "provenance": [],
      "toc_visible": true
    },
    "kernelspec": {
      "display_name": "Python 3",
      "name": "python3"
    },
    "language_info": {
      "codemirror_mode": {
        "name": "ipython",
        "version": 3
      },
      "file_extension": ".py",
      "mimetype": "text/x-python",
      "name": "python",
      "nbconvert_exporter": "python",
      "pygments_lexer": "ipython3",
      "version": "3.9.6"
    }
  },
  "nbformat": 4,
  "nbformat_minor": 0
}
